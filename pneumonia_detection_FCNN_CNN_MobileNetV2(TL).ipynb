{
  "metadata": {
    "kernelspec": {
      "language": "python",
      "display_name": "Python 3",
      "name": "python3"
    },
    "language_info": {
      "pygments_lexer": "ipython3",
      "nbconvert_exporter": "python",
      "version": "3.6.4",
      "file_extension": ".py",
      "codemirror_mode": {
        "name": "ipython",
        "version": 3
      },
      "name": "python",
      "mimetype": "text/x-python"
    },
    "colab": {
      "name": "pneumonia_detection_FCNN_CNN_MobileNetV2(TL).ipynb",
      "provenance": [],
      "collapsed_sections": [
        "t18biApg2ZXG"
      ]
    },
    "accelerator": "GPU"
  },
  "nbformat_minor": 0,
  "nbformat": 4,
  "cells": [
    {
      "cell_type": "markdown",
      "source": [
        "## Part 3: Modelling & Predicting Pneumonia w/ Neural Networks"
      ],
      "metadata": {
        "id": "GJb2zcmN2ZW8"
      }
    },
    {
      "cell_type": "code",
      "source": [
        "%tensorflow_version 2.x\n",
        "import tensorflow\n",
        "tensorflow.__version__"
      ],
      "metadata": {
        "colab": {
          "base_uri": "https://localhost:8080/",
          "height": 35
        },
        "id": "zIrOeMmM2uZP",
        "outputId": "d943c7e3-6b38-4022-977f-06668cd8d109"
      },
      "execution_count": null,
      "outputs": [
        {
          "output_type": "execute_result",
          "data": {
            "text/plain": [
              "'2.8.0'"
            ],
            "application/vnd.google.colaboratory.intrinsic+json": {
              "type": "string"
            }
          },
          "metadata": {},
          "execution_count": 1
        }
      ]
    },
    {
      "cell_type": "code",
      "source": [
        "from google.colab import drive\n",
        "drive.mount('/content/drive')"
      ],
      "metadata": {
        "colab": {
          "base_uri": "https://localhost:8080/"
        },
        "id": "kQ4tiecG2ys-",
        "outputId": "c607bdb1-3223-4f29-c3a7-69621e9a59ef"
      },
      "execution_count": null,
      "outputs": [
        {
          "output_type": "stream",
          "name": "stdout",
          "text": [
            "Mounted at /content/drive\n"
          ]
        }
      ]
    },
    {
      "cell_type": "code",
      "source": [
        "cd \"/content/drive/MyDrive/capstone\""
      ],
      "metadata": {
        "colab": {
          "base_uri": "https://localhost:8080/"
        },
        "id": "aHlh4uzI2yvk",
        "outputId": "9217c606-0843-4dcd-b491-7a201ec889d9"
      },
      "execution_count": null,
      "outputs": [
        {
          "output_type": "stream",
          "name": "stdout",
          "text": [
            "/content/drive/MyDrive/capstone\n"
          ]
        }
      ]
    },
    {
      "cell_type": "code",
      "source": [
        "!pip install pydicom"
      ],
      "metadata": {
        "colab": {
          "base_uri": "https://localhost:8080/"
        },
        "id": "V-_0iXco24Fg",
        "outputId": "f0cdfb7f-341d-4040-d683-b5a693c5829f"
      },
      "execution_count": null,
      "outputs": [
        {
          "output_type": "stream",
          "name": "stdout",
          "text": [
            "Collecting pydicom\n",
            "  Downloading pydicom-2.3.0-py3-none-any.whl (2.0 MB)\n",
            "\u001b[K     |████████████████████████████████| 2.0 MB 5.4 MB/s \n",
            "\u001b[?25hInstalling collected packages: pydicom\n",
            "Successfully installed pydicom-2.3.0\n"
          ]
        }
      ]
    },
    {
      "cell_type": "code",
      "source": [
        "# Imports\n",
        "import os\n",
        "import cv2\n",
        "import glob\n",
        "import time\n",
        "import pydicom\n",
        "import skimage\n",
        "import numpy as np\n",
        "import pandas as pd\n",
        "import seaborn as sns\n",
        "import matplotlib.pyplot as plt\n",
        "import matplotlib.patches as patches\n",
        "from skimage import feature, filters\n",
        "%matplotlib inline\n",
        "\n",
        "from functools import partial\n",
        "from collections import defaultdict\n",
        "from joblib import Parallel, delayed\n",
        "from lightgbm import LGBMClassifier\n",
        "from tqdm import tqdm\n",
        "\n",
        "# Tensorflow / Keras\n",
        "import tensorflow as tf\n",
        "from tensorflow import keras\n",
        "from tensorflow.keras.layers import *\n",
        "from tensorflow.keras import Model\n",
        "from tensorflow.keras.applications.vgg16 import VGG16\n",
        "from keras import models\n",
        "from keras import layers\n",
        "\n",
        "# sklearn\n",
        "from sklearn.model_selection import KFold\n",
        "from sklearn.metrics import roc_auc_score\n",
        "from sklearn.model_selection import RandomizedSearchCV\n",
        "\n",
        "sns.set_style('whitegrid')\n",
        "np.warnings.filterwarnings('ignore')"
      ],
      "metadata": {
        "execution": {
          "iopub.status.busy": "2021-07-31T11:42:54.587798Z",
          "iopub.execute_input": "2021-07-31T11:42:54.588232Z",
          "iopub.status.idle": "2021-07-31T11:43:05.025981Z",
          "shell.execute_reply.started": "2021-07-31T11:42:54.588141Z",
          "shell.execute_reply": "2021-07-31T11:43:05.024836Z"
        },
        "trusted": true,
        "id": "Xqv2N5XI2ZW_"
      },
      "execution_count": null,
      "outputs": []
    },
    {
      "cell_type": "code",
      "source": [
        "# Reference image directories\n",
        "trainImagesPath = \"stage_2_train_images\"\n",
        "testImagesPath = \"stage_2_test_images\"\n",
        "\n",
        "labelsPath = \"stage_2_train_labels.csv\"\n",
        "classInfoPath = \"stage_2_detailed_class_info.csv\"\n",
        "\n",
        "# Read labels and classinfo\n",
        "labels = pd.read_csv(labelsPath)\n",
        "details = pd.read_csv(classInfoPath)"
      ],
      "metadata": {
        "execution": {
          "iopub.status.busy": "2021-07-31T11:43:11.919811Z",
          "iopub.execute_input": "2021-07-31T11:43:11.920184Z",
          "iopub.status.idle": "2021-07-31T11:43:12.094988Z",
          "shell.execute_reply.started": "2021-07-31T11:43:11.920148Z",
          "shell.execute_reply": "2021-07-31T11:43:12.093906Z"
        },
        "trusted": true,
        "id": "ASL4tny62ZXA"
      },
      "execution_count": null,
      "outputs": []
    },
    {
      "cell_type": "code",
      "source": [
        ""
      ],
      "metadata": {
        "id": "7LjlftK62taw"
      },
      "execution_count": null,
      "outputs": []
    },
    {
      "cell_type": "markdown",
      "source": [
        "## Part 3.1: Attaining our Training & Testing Data in Proper Format"
      ],
      "metadata": {
        "id": "g6rKwah32ZXB"
      }
    },
    {
      "cell_type": "code",
      "source": [
        "\"\"\"\n",
        "@Description: Reads an array of dicom image paths, and returns an array of the images after they have been read\n",
        "\n",
        "@Inputs: An array of filepaths for the images\n",
        "\n",
        "@Output: Returns an array of the images after they have been read\n",
        "\"\"\"\n",
        "def readDicomData(data):\n",
        "    \n",
        "    res = []\n",
        "    \n",
        "    for filePath in tqdm(data): # Loop over data\n",
        "        \n",
        "        # Using stop_before_pixels to avoid reading the image (Saves on speed/memory)\n",
        "        f = pydicom.read_file(filePath, stop_before_pixels=True)\n",
        "        res.append(f)\n",
        "    \n",
        "    return res"
      ],
      "metadata": {
        "execution": {
          "iopub.status.busy": "2021-07-31T11:43:14.120855Z",
          "iopub.execute_input": "2021-07-31T11:43:14.121239Z",
          "iopub.status.idle": "2021-07-31T11:43:14.127974Z",
          "shell.execute_reply.started": "2021-07-31T11:43:14.121203Z",
          "shell.execute_reply": "2021-07-31T11:43:14.126789Z"
        },
        "trusted": true,
        "id": "LslGOxtK2ZXB"
      },
      "execution_count": null,
      "outputs": []
    },
    {
      "cell_type": "code",
      "source": [
        "# Creating an array of the test & training file paths\n",
        "trainFilepaths = glob.glob(f\"{trainImagesPath}/*.dcm\")\n",
        "testFilepaths = glob.glob(f\"{testImagesPath}/*.dcm\")\n",
        "\n",
        "# Reading data into an array\n",
        "trainImages = readDicomData(trainFilepaths[:5000])\n",
        "testImages = readDicomData(testFilepaths[:3000])"
      ],
      "metadata": {
        "execution": {
          "iopub.status.busy": "2021-07-31T11:43:20.68367Z",
          "iopub.execute_input": "2021-07-31T11:43:20.684205Z",
          "iopub.status.idle": "2021-07-31T11:45:26.137239Z",
          "shell.execute_reply.started": "2021-07-31T11:43:20.684172Z",
          "shell.execute_reply": "2021-07-31T11:45:26.136077Z"
        },
        "trusted": true,
        "colab": {
          "base_uri": "https://localhost:8080/"
        },
        "id": "u_IDB2782ZXC",
        "outputId": "8aea37a4-594e-46b6-c168-e1d357a61336"
      },
      "execution_count": null,
      "outputs": [
        {
          "output_type": "stream",
          "name": "stderr",
          "text": [
            "100%|██████████| 5000/5000 [08:04<00:00, 10.33it/s] \n",
            "100%|██████████| 3000/3000 [12:12<00:00,  4.10it/s]\n"
          ]
        }
      ]
    },
    {
      "cell_type": "markdown",
      "source": [
        "## Part 3.2: Balancing our Data\n",
        "\n",
        "We balance our data as CNNs work best on evenly balanced data"
      ],
      "metadata": {
        "id": "FiUby3WH2ZXC"
      }
    },
    {
      "cell_type": "code",
      "source": [
        "COUNT_NORMAL = len(labels.loc[labels['Target'] == 0]) # Number of patients with no pneumonia\n",
        "COUNT_PNE = len(labels.loc[labels['Target'] == 1]) # Number of patients with pneumonia\n",
        "TRAIN_IMG_COUNT = len(trainFilepaths) # Total patients\n",
        "\n",
        "# Calculating the weight of each\n",
        "weight_for_0 = (1 / COUNT_NORMAL)*(TRAIN_IMG_COUNT)/2.0 \n",
        "weight_for_1 = (1 / COUNT_PNE)*(TRAIN_IMG_COUNT)/2.0\n",
        "\n",
        "classWeight = {0: weight_for_0, \n",
        "               1: weight_for_1}\n",
        "\n",
        "print(f\"Weights: {classWeight}\")"
      ],
      "metadata": {
        "execution": {
          "iopub.status.busy": "2021-07-31T11:45:26.139119Z",
          "iopub.execute_input": "2021-07-31T11:45:26.13958Z",
          "iopub.status.idle": "2021-07-31T11:45:26.162683Z",
          "shell.execute_reply.started": "2021-07-31T11:45:26.139514Z",
          "shell.execute_reply": "2021-07-31T11:45:26.161655Z"
        },
        "trusted": true,
        "colab": {
          "base_uri": "https://localhost:8080/"
        },
        "id": "O7_oGyyh2ZXD",
        "outputId": "5b472945-fcc0-4751-9397-34682b3a3152"
      },
      "execution_count": null,
      "outputs": [
        {
          "output_type": "stream",
          "name": "stdout",
          "text": [
            "Weights: {0: 0.6454140866873065, 1: 1.3963369963369963}\n"
          ]
        }
      ]
    },
    {
      "cell_type": "markdown",
      "source": [
        "## Part 3.3: Get Train_Y & Test_Y"
      ],
      "metadata": {
        "id": "8O9r9BrO2ZXD"
      }
    },
    {
      "cell_type": "code",
      "source": [
        "\"\"\"\n",
        "@Description: This function parses the medical images meta-data contained\n",
        "\n",
        "@Inputs: Takes in the dicom image after it has been read\n",
        "\n",
        "@Output: Returns the unpacked data and the group elements keywords\n",
        "\"\"\"\n",
        "def parseMetadata(dcm):\n",
        "    \n",
        "    unpackedData = {}\n",
        "    groupElemToKeywords = {}\n",
        "    \n",
        "    for d in dcm: # Iterating to force conversion from lazy RawDataElement to DataElement\n",
        "        pass\n",
        "    \n",
        "    # Un-pack Data\n",
        "    for tag, elem in dcm.items():\n",
        "        tagGroup = tag.group\n",
        "        tagElem = tag.elem\n",
        "        keyword = elem.keyword\n",
        "        groupElemToKeywords[(tagGroup, tagElem)] = keyword\n",
        "        value = elem.value\n",
        "        unpackedData[keyword] = value\n",
        "        \n",
        "    return unpackedData, groupElemToKeywords"
      ],
      "metadata": {
        "execution": {
          "iopub.status.busy": "2021-07-31T11:45:26.164289Z",
          "iopub.execute_input": "2021-07-31T11:45:26.164584Z",
          "iopub.status.idle": "2021-07-31T11:45:26.173063Z",
          "shell.execute_reply.started": "2021-07-31T11:45:26.164554Z",
          "shell.execute_reply": "2021-07-31T11:45:26.171246Z"
        },
        "trusted": true,
        "id": "BlNfagXr2ZXE"
      },
      "execution_count": null,
      "outputs": []
    },
    {
      "cell_type": "code",
      "source": [
        "# Parsing metadata into dictionaries\n",
        "trainMetaDicts, trainKeyword = zip(*[parseMetadata(x) for x in tqdm(trainImages)])\n",
        "testMetaDicts, testKeyword = zip(*[parseMetadata(x) for x in tqdm(testImages)])"
      ],
      "metadata": {
        "execution": {
          "iopub.status.busy": "2021-07-31T11:45:26.175102Z",
          "iopub.execute_input": "2021-07-31T11:45:26.175445Z",
          "iopub.status.idle": "2021-07-31T11:45:32.9927Z",
          "shell.execute_reply.started": "2021-07-31T11:45:26.175413Z",
          "shell.execute_reply": "2021-07-31T11:45:32.991622Z"
        },
        "trusted": true,
        "colab": {
          "base_uri": "https://localhost:8080/"
        },
        "id": "21njJ_Uq2ZXE",
        "outputId": "14df0b94-13b9-4417-bd8a-d1229f9cb5f0"
      },
      "execution_count": null,
      "outputs": [
        {
          "output_type": "stream",
          "name": "stderr",
          "text": [
            "100%|██████████| 5000/5000 [00:05<00:00, 874.53it/s]\n",
            "100%|██████████| 3000/3000 [00:03<00:00, 862.77it/s] \n"
          ]
        }
      ]
    },
    {
      "cell_type": "code",
      "source": [
        "\"\"\"\n",
        "@Description: This function goes through the dicom image information and returns 1 or 0\n",
        "              depending on whether the image contains Pneumonia or not\n",
        "\n",
        "@Inputs: A dataframe containing the metadata\n",
        "\n",
        "@Output: Returns the Y result (i.e: our train and test y)\n",
        "\"\"\"\n",
        "def createY(df):\n",
        "    y = (df['SeriesDescription'] == 'view: PA')\n",
        "    Y = np.zeros(len(y)) # Initialise Y\n",
        "    \n",
        "    for i in range(len(y)):\n",
        "        if(y[i] == True):\n",
        "            Y[i] = 1\n",
        "    \n",
        "    return Y\n",
        "\n",
        "\n",
        "train_df = pd.DataFrame.from_dict(data=trainMetaDicts)\n",
        "test_df = pd.DataFrame.from_dict(data=testMetaDicts)\n",
        "\n",
        "train_df['dataset'] = 'train'\n",
        "test_df['dataset'] = 'test'\n",
        "\n",
        "df = train_df\n",
        "df2 = test_df\n",
        "\n",
        "train_Y = createY(df) # Create training Y \n",
        "test_Y = createY(df2) # Create testing Y"
      ],
      "metadata": {
        "execution": {
          "iopub.status.busy": "2021-07-31T11:45:32.994159Z",
          "iopub.execute_input": "2021-07-31T11:45:32.994473Z",
          "iopub.status.idle": "2021-07-31T11:45:33.209015Z",
          "shell.execute_reply.started": "2021-07-31T11:45:32.994439Z",
          "shell.execute_reply": "2021-07-31T11:45:33.207915Z"
        },
        "trusted": true,
        "id": "GjM8p6jW2ZXF"
      },
      "execution_count": null,
      "outputs": []
    },
    {
      "cell_type": "markdown",
      "source": [
        "## Part 3.4: Get Train_X & Test_X"
      ],
      "metadata": {
        "id": "-FvkZyG52ZXF"
      }
    },
    {
      "cell_type": "code",
      "source": [
        "\"\"\"\n",
        "@Description: This decodes an image by reading the pixel array, resizing it into the correct format and\n",
        "              normalising the pixels\n",
        "\n",
        "@Inputs:\n",
        "    - filePath: This is the filepath of the image that we want to decode\n",
        "\n",
        "@Output:\n",
        "    - img: This is the image after it has been decoded\n",
        "\"\"\"\n",
        "def decodeImage(filePath):\n",
        "    image = pydicom.read_file(filePath).pixel_array\n",
        "    image = cv2.resize(image, (128, 128))\n",
        "    return (image/255)"
      ],
      "metadata": {
        "execution": {
          "iopub.status.busy": "2021-07-31T11:45:33.210598Z",
          "iopub.execute_input": "2021-07-31T11:45:33.211058Z",
          "iopub.status.idle": "2021-07-31T11:45:33.21712Z",
          "shell.execute_reply.started": "2021-07-31T11:45:33.210997Z",
          "shell.execute_reply": "2021-07-31T11:45:33.215821Z"
        },
        "trusted": true,
        "id": "lmZc9lVy2ZXF"
      },
      "execution_count": null,
      "outputs": []
    },
    {
      "cell_type": "code",
      "source": [
        "# Get our train x in the correct shape\n",
        "train_X = []\n",
        "\n",
        "for filePath in tqdm(trainFilepaths[:5000]):\n",
        "    \n",
        "    img = decodeImage(filePath)\n",
        "    train_X.append(img)\n",
        "\n",
        "train_X = np.array(train_X) # Convert to np.array\n",
        "train_X_rgb = np.repeat(train_X[..., np.newaxis], 3, -1) # Reshape into rgb format"
      ],
      "metadata": {
        "execution": {
          "iopub.status.busy": "2021-07-31T11:45:33.218686Z",
          "iopub.execute_input": "2021-07-31T11:45:33.219144Z",
          "iopub.status.idle": "2021-07-31T11:46:32.652053Z",
          "shell.execute_reply.started": "2021-07-31T11:45:33.2191Z",
          "shell.execute_reply": "2021-07-31T11:46:32.650951Z"
        },
        "trusted": true,
        "colab": {
          "base_uri": "https://localhost:8080/"
        },
        "id": "Aul-qV3G2ZXF",
        "outputId": "75f0949c-eafb-4bfe-8094-d981b00f9b87"
      },
      "execution_count": null,
      "outputs": [
        {
          "output_type": "stream",
          "name": "stderr",
          "text": [
            "100%|██████████| 5000/5000 [00:58<00:00, 85.97it/s]\n"
          ]
        }
      ]
    },
    {
      "cell_type": "code",
      "source": [
        "# Get our test x in the correct shape for NN\n",
        "test_X = []\n",
        "\n",
        "for filePath in tqdm(testFilepaths):\n",
        "    img_test = decodeImage(filePath) # Decode & Resize\n",
        "    test_X.append(img_test)\n",
        "\n",
        "test_X = np.array(test_X) # Convert to np array\n",
        "test_X_rgb = np.repeat(test_X[..., np.newaxis], 3, -1) # Reshape into rgb format"
      ],
      "metadata": {
        "execution": {
          "iopub.status.busy": "2021-07-31T11:46:32.655236Z",
          "iopub.execute_input": "2021-07-31T11:46:32.655758Z",
          "iopub.status.idle": "2021-07-31T11:47:06.646058Z",
          "shell.execute_reply.started": "2021-07-31T11:46:32.65571Z",
          "shell.execute_reply": "2021-07-31T11:47:06.645087Z"
        },
        "trusted": true,
        "colab": {
          "base_uri": "https://localhost:8080/"
        },
        "id": "lTP1RVXu2ZXG",
        "outputId": "0e53edb4-d181-468b-cb5b-0aa0d7d38009"
      },
      "execution_count": null,
      "outputs": [
        {
          "output_type": "stream",
          "name": "stderr",
          "text": [
            "100%|██████████| 3000/3000 [00:34<00:00, 86.19it/s]\n"
          ]
        }
      ]
    },
    {
      "cell_type": "code",
      "source": [
        "\"\"\"\n",
        "@Description: This function plots our metrics for our models across epochs\n",
        "\n",
        "@Inputs: The history of the fitted model\n",
        "\n",
        "@Output: N/A\n",
        "\"\"\"\n",
        "def plottingScores(hist):\n",
        "    fig, ax = plt.subplots(1, 5, figsize=(20, 3))\n",
        "    ax = ax.ravel()\n",
        "\n",
        "    for i, met in enumerate(['accuracy', 'precision', 'recall', 'AUC', 'loss']):\n",
        "        ax[i].plot(hist.history[met])\n",
        "        ax[i].plot(hist.history['val_' + met])\n",
        "        ax[i].set_title('Model {}'.format(met))\n",
        "        ax[i].set_xlabel('epochs')\n",
        "        ax[i].set_ylabel(met)\n",
        "        ax[i].legend(['train', 'val'])"
      ],
      "metadata": {
        "execution": {
          "iopub.status.busy": "2021-07-31T11:47:06.647488Z",
          "iopub.execute_input": "2021-07-31T11:47:06.647853Z",
          "iopub.status.idle": "2021-07-31T11:47:06.656478Z",
          "shell.execute_reply.started": "2021-07-31T11:47:06.647818Z",
          "shell.execute_reply": "2021-07-31T11:47:06.65503Z"
        },
        "trusted": true,
        "id": "SfO7v3zs2ZXG"
      },
      "execution_count": null,
      "outputs": []
    },
    {
      "cell_type": "markdown",
      "source": [
        "## Part 3.5: Metrics Evaluation\n",
        "For our metrics, we want to include <b><i>precision</i></b> and <b><i>recall</i></b> as they will provide use with more info on how good our model is\n",
        " \n",
        " \n",
        "- <b><u>Accuracy:</u></b> This tells us what fraction of the labels are correct.\n",
        "    - Since our data is not balanced, accuracy might give a skewed sense of a good model\n",
        "\n",
        "\n",
        "- <b><u>Precision:</u></b> This tells us the number of true positives (TP) over the sum of TP and false positives (FP). \n",
        "    - It shows what fraction of labeled positives are actually correct.\n",
        "\n",
        "\n",
        "- <b><u>Recall:</u></b> The number of TP over the sum of TP and false negatves (FN). \n",
        "    - It shows what fraction of actual positives are correct."
      ],
      "metadata": {
        "id": "9BNKHEII2ZXG"
      }
    },
    {
      "cell_type": "code",
      "source": [
        "# These our our scoring metrics that are going to be used to evaluate our models\n",
        "METRICS = ['accuracy', \n",
        "           tf.keras.metrics.Precision(name='precision'), \n",
        "           tf.keras.metrics.Recall(name='recall'), \n",
        "           tf.keras.metrics.AUC(name='AUC')]"
      ],
      "metadata": {
        "execution": {
          "iopub.status.busy": "2021-07-31T11:47:06.658311Z",
          "iopub.execute_input": "2021-07-31T11:47:06.658882Z",
          "iopub.status.idle": "2021-07-31T11:47:06.735938Z",
          "shell.execute_reply.started": "2021-07-31T11:47:06.658832Z",
          "shell.execute_reply": "2021-07-31T11:47:06.734833Z"
        },
        "trusted": true,
        "id": "RxCkcMOG2ZXG"
      },
      "execution_count": null,
      "outputs": []
    },
    {
      "cell_type": "markdown",
      "source": [
        "### Tuning our Models with Callbacks\n",
        "\n",
        "- We'll use Keras callbacks to further finetune our model. \n",
        "- The <b>checkpoint callback</b> saves the best weights of the model, so next time we want to use the model, we do not have to spend time training it. \n",
        "- The <b>early stopping callback</b> stops the training process when the model starts becoming stagnant, or even worse, when the model starts overfitting. \n",
        "- Since we set restore_best_weights to True, the returned model at the end of the training process will be the model with the best weights (i.e. low loss and high accuracy)."
      ],
      "metadata": {
        "id": "t18biApg2ZXG"
      }
    },
    {
      "cell_type": "code",
      "source": [
        "# Define our callback functions to pass when fitting our NNs\n",
        "def exponential_decay(lr0, s):\n",
        "    def exponential_decay_fn(epoch):\n",
        "        return lr0 * 0.1 **(epoch / s)\n",
        "    return exponential_decay_fn\n",
        "\n",
        "exponential_decay_fn = exponential_decay(0.01, 20)\n",
        "\n",
        "lr_scheduler = tf.keras.callbacks.LearningRateScheduler(exponential_decay_fn)\n",
        "\n",
        "checkpoint_cb = tf.keras.callbacks.ModelCheckpoint(\"xray_model.h5\", save_best_only=True)\n",
        "\n",
        "early_stopping_cb = tf.keras.callbacks.EarlyStopping(patience=5, restore_best_weights=True)"
      ],
      "metadata": {
        "execution": {
          "iopub.status.busy": "2021-07-31T11:47:06.737397Z",
          "iopub.execute_input": "2021-07-31T11:47:06.737845Z",
          "iopub.status.idle": "2021-07-31T11:47:06.744978Z",
          "shell.execute_reply.started": "2021-07-31T11:47:06.737799Z",
          "shell.execute_reply": "2021-07-31T11:47:06.743711Z"
        },
        "trusted": true,
        "id": "65y1wlhp2ZXG"
      },
      "execution_count": null,
      "outputs": []
    },
    {
      "cell_type": "markdown",
      "source": [
        "## Part 3.6: Building Model #1 - Fully Connected Model"
      ],
      "metadata": {
        "id": "LthQj48g2ZXH"
      }
    },
    {
      "cell_type": "code",
      "source": [
        "\"\"\"\n",
        "@Description: This function builds our simple Fully-connected NN\n",
        "\n",
        "@Inputs: N/A\n",
        "\n",
        "@Output: Returns the FCNN Model\n",
        "\"\"\"\n",
        "def build_fcnn_model():\n",
        "    \n",
        "    # Basic model with a flattening layer followng by 2 dense layers\n",
        "    # The first dense layer is using relu and the 2nd one is using sigmoid\n",
        "    model = tf.keras.models.Sequential([\n",
        "                tf.keras.layers.Flatten(input_shape = (128, 128, 3)), \n",
        "                tf.keras.layers.Dense(128, activation = \"relu\"), \n",
        "                tf.keras.layers.Dense(1, activation = \"sigmoid\")\n",
        "                ])\n",
        "    \n",
        "    return model"
      ],
      "metadata": {
        "execution": {
          "iopub.status.busy": "2021-07-31T11:47:06.746714Z",
          "iopub.execute_input": "2021-07-31T11:47:06.747276Z",
          "iopub.status.idle": "2021-07-31T11:47:06.75947Z",
          "shell.execute_reply.started": "2021-07-31T11:47:06.747225Z",
          "shell.execute_reply": "2021-07-31T11:47:06.758344Z"
        },
        "trusted": true,
        "id": "0X_cFgbS2ZXH"
      },
      "execution_count": null,
      "outputs": []
    },
    {
      "cell_type": "code",
      "source": [
        "# Building our FCNN model and compile\n",
        "model_fcnn = build_fcnn_model()\n",
        "model_fcnn.summary()\n",
        "model_fcnn.compile(optimizer=\"adam\", loss=\"binary_crossentropy\", metrics=METRICS) # Compile"
      ],
      "metadata": {
        "execution": {
          "iopub.status.busy": "2021-07-31T11:47:06.761086Z",
          "iopub.execute_input": "2021-07-31T11:47:06.761553Z",
          "iopub.status.idle": "2021-07-31T11:47:06.874644Z",
          "shell.execute_reply.started": "2021-07-31T11:47:06.761482Z",
          "shell.execute_reply": "2021-07-31T11:47:06.873514Z"
        },
        "trusted": true,
        "colab": {
          "base_uri": "https://localhost:8080/"
        },
        "id": "MR8Egaco2ZXH",
        "outputId": "0fbea355-e3e8-4a38-98a8-8690e57f10fc"
      },
      "execution_count": null,
      "outputs": [
        {
          "output_type": "stream",
          "name": "stdout",
          "text": [
            "Model: \"sequential\"\n",
            "_________________________________________________________________\n",
            " Layer (type)                Output Shape              Param #   \n",
            "=================================================================\n",
            " flatten (Flatten)           (None, 49152)             0         \n",
            "                                                                 \n",
            " dense (Dense)               (None, 128)               6291584   \n",
            "                                                                 \n",
            " dense_1 (Dense)             (None, 1)                 129       \n",
            "                                                                 \n",
            "=================================================================\n",
            "Total params: 6,291,713\n",
            "Trainable params: 6,291,713\n",
            "Non-trainable params: 0\n",
            "_________________________________________________________________\n"
          ]
        }
      ]
    },
    {
      "cell_type": "markdown",
      "source": [
        "### Fitting Model to Training Data"
      ],
      "metadata": {
        "id": "U9YT1XHU2ZXH"
      }
    },
    {
      "cell_type": "code",
      "source": [
        "history_fcnn = model_fcnn.fit(train_X_rgb, \n",
        "                          train_Y,  \n",
        "                          epochs = 30,\n",
        "                          batch_size = 128,\n",
        "                          validation_split = 0.2, \n",
        "                          class_weight = classWeight, \n",
        "                          verbose = 1,\n",
        "                          callbacks = [checkpoint_cb, early_stopping_cb, lr_scheduler]) # Fit the model"
      ],
      "metadata": {
        "execution": {
          "iopub.status.busy": "2021-07-29T08:18:24.045069Z",
          "iopub.execute_input": "2021-07-29T08:18:24.045426Z",
          "iopub.status.idle": "2021-07-29T08:18:53.936095Z",
          "shell.execute_reply.started": "2021-07-29T08:18:24.045396Z",
          "shell.execute_reply": "2021-07-29T08:18:53.934825Z"
        },
        "trusted": true,
        "colab": {
          "base_uri": "https://localhost:8080/"
        },
        "id": "yVzRZarf2ZXH",
        "outputId": "d8b7c043-5f15-49a0-b13b-6ea054fe31f1"
      },
      "execution_count": null,
      "outputs": [
        {
          "output_type": "stream",
          "name": "stdout",
          "text": [
            "Epoch 1/30\n",
            "32/32 [==============================] - 1s 35ms/step - loss: 0.2036 - accuracy: 0.9103 - precision: 0.8935 - recall: 0.9500 - AUC: 0.9718 - val_loss: 0.2231 - val_accuracy: 0.9260 - val_precision: 0.9652 - val_recall: 0.8922 - val_AUC: 0.9703 - lr: 0.0100\n",
            "Epoch 2/30\n",
            "32/32 [==============================] - 1s 30ms/step - loss: 0.2194 - accuracy: 0.8997 - precision: 0.8799 - recall: 0.9468 - AUC: 0.9679 - val_loss: 0.2154 - val_accuracy: 0.9210 - val_precision: 0.9018 - val_recall: 0.9546 - val_AUC: 0.9801 - lr: 0.0089\n",
            "Epoch 3/30\n",
            "32/32 [==============================] - 2s 78ms/step - loss: 0.1839 - accuracy: 0.9145 - precision: 0.8929 - recall: 0.9595 - AUC: 0.9785 - val_loss: 0.2110 - val_accuracy: 0.9280 - val_precision: 0.9770 - val_recall: 0.8847 - val_AUC: 0.9767 - lr: 0.0079\n",
            "Epoch 4/30\n",
            "32/32 [==============================] - 1s 30ms/step - loss: 0.1833 - accuracy: 0.9193 - precision: 0.9046 - recall: 0.9536 - AUC: 0.9775 - val_loss: 0.2242 - val_accuracy: 0.9100 - val_precision: 0.8739 - val_recall: 0.9698 - val_AUC: 0.9832 - lr: 0.0071\n",
            "Epoch 5/30\n",
            "32/32 [==============================] - 1s 28ms/step - loss: 0.1785 - accuracy: 0.9255 - precision: 0.9109 - recall: 0.9581 - AUC: 0.9777 - val_loss: 0.2189 - val_accuracy: 0.9130 - val_precision: 0.8759 - val_recall: 0.9735 - val_AUC: 0.9844 - lr: 0.0063\n",
            "Epoch 6/30\n",
            "32/32 [==============================] - 1s 39ms/step - loss: 0.1767 - accuracy: 0.9230 - precision: 0.9073 - recall: 0.9577 - AUC: 0.9785 - val_loss: 0.1813 - val_accuracy: 0.9380 - val_precision: 0.9448 - val_recall: 0.9376 - val_AUC: 0.9846 - lr: 0.0056\n",
            "Epoch 7/30\n",
            "32/32 [==============================] - 1s 29ms/step - loss: 0.1882 - accuracy: 0.9120 - precision: 0.8934 - recall: 0.9536 - AUC: 0.9760 - val_loss: 0.1945 - val_accuracy: 0.9390 - val_precision: 0.9795 - val_recall: 0.9036 - val_AUC: 0.9797 - lr: 0.0050\n",
            "Epoch 8/30\n",
            "32/32 [==============================] - 1s 28ms/step - loss: 0.1671 - accuracy: 0.9302 - precision: 0.9214 - recall: 0.9545 - AUC: 0.9811 - val_loss: 0.2326 - val_accuracy: 0.9060 - val_precision: 0.8607 - val_recall: 0.9811 - val_AUC: 0.9850 - lr: 0.0045\n",
            "Epoch 9/30\n",
            "32/32 [==============================] - 1s 37ms/step - loss: 0.1635 - accuracy: 0.9323 - precision: 0.9195 - recall: 0.9609 - AUC: 0.9817 - val_loss: 0.1783 - val_accuracy: 0.9350 - val_precision: 0.9296 - val_recall: 0.9490 - val_AUC: 0.9861 - lr: 0.0040\n",
            "Epoch 10/30\n",
            "32/32 [==============================] - 1s 29ms/step - loss: 0.1558 - accuracy: 0.9352 - precision: 0.9228 - recall: 0.9627 - AUC: 0.9836 - val_loss: 0.2091 - val_accuracy: 0.9150 - val_precision: 0.8828 - val_recall: 0.9679 - val_AUC: 0.9855 - lr: 0.0035\n",
            "Epoch 11/30\n",
            "32/32 [==============================] - 1s 39ms/step - loss: 0.1532 - accuracy: 0.9348 - precision: 0.9216 - recall: 0.9631 - AUC: 0.9835 - val_loss: 0.1706 - val_accuracy: 0.9420 - val_precision: 0.9452 - val_recall: 0.9452 - val_AUC: 0.9866 - lr: 0.0032\n",
            "Epoch 12/30\n",
            "32/32 [==============================] - 1s 40ms/step - loss: 0.1483 - accuracy: 0.9370 - precision: 0.9249 - recall: 0.9636 - AUC: 0.9854 - val_loss: 0.1689 - val_accuracy: 0.9430 - val_precision: 0.9487 - val_recall: 0.9433 - val_AUC: 0.9866 - lr: 0.0028\n",
            "Epoch 13/30\n",
            "32/32 [==============================] - 1s 28ms/step - loss: 0.1504 - accuracy: 0.9392 - precision: 0.9285 - recall: 0.9636 - AUC: 0.9845 - val_loss: 0.1767 - val_accuracy: 0.9350 - val_precision: 0.9249 - val_recall: 0.9546 - val_AUC: 0.9867 - lr: 0.0025\n",
            "Epoch 14/30\n",
            "32/32 [==============================] - 1s 39ms/step - loss: 0.1463 - accuracy: 0.9400 - precision: 0.9271 - recall: 0.9668 - AUC: 0.9854 - val_loss: 0.1678 - val_accuracy: 0.9430 - val_precision: 0.9453 - val_recall: 0.9471 - val_AUC: 0.9869 - lr: 0.0022\n",
            "Epoch 15/30\n",
            "32/32 [==============================] - 1s 39ms/step - loss: 0.1441 - accuracy: 0.9410 - precision: 0.9295 - recall: 0.9659 - AUC: 0.9862 - val_loss: 0.1660 - val_accuracy: 0.9430 - val_precision: 0.9470 - val_recall: 0.9452 - val_AUC: 0.9873 - lr: 0.0020\n",
            "Epoch 16/30\n",
            "32/32 [==============================] - 1s 29ms/step - loss: 0.1405 - accuracy: 0.9465 - precision: 0.9370 - recall: 0.9677 - AUC: 0.9869 - val_loss: 0.1687 - val_accuracy: 0.9380 - val_precision: 0.9332 - val_recall: 0.9509 - val_AUC: 0.9878 - lr: 0.0018\n",
            "Epoch 17/30\n",
            "32/32 [==============================] - 1s 29ms/step - loss: 0.1393 - accuracy: 0.9463 - precision: 0.9347 - recall: 0.9700 - AUC: 0.9872 - val_loss: 0.1734 - val_accuracy: 0.9340 - val_precision: 0.9217 - val_recall: 0.9565 - val_AUC: 0.9865 - lr: 0.0016\n",
            "Epoch 18/30\n",
            "32/32 [==============================] - 1s 29ms/step - loss: 0.1412 - accuracy: 0.9465 - precision: 0.9366 - recall: 0.9682 - AUC: 0.9865 - val_loss: 0.1782 - val_accuracy: 0.9340 - val_precision: 0.9141 - val_recall: 0.9660 - val_AUC: 0.9865 - lr: 0.0014\n",
            "Epoch 19/30\n",
            "32/32 [==============================] - 1s 29ms/step - loss: 0.1376 - accuracy: 0.9460 - precision: 0.9350 - recall: 0.9691 - AUC: 0.9867 - val_loss: 0.1821 - val_accuracy: 0.9310 - val_precision: 0.9078 - val_recall: 0.9679 - val_AUC: 0.9874 - lr: 0.0013\n",
            "Epoch 20/30\n",
            "32/32 [==============================] - 1s 29ms/step - loss: 0.1359 - accuracy: 0.9452 - precision: 0.9349 - recall: 0.9677 - AUC: 0.9876 - val_loss: 0.1758 - val_accuracy: 0.9360 - val_precision: 0.9204 - val_recall: 0.9622 - val_AUC: 0.9867 - lr: 0.0011\n"
          ]
        }
      ]
    },
    {
      "cell_type": "code",
      "source": [
        "# Evaluate and display results\n",
        "results = model_fcnn.evaluate(test_X_rgb, test_Y) # Evaluate the model on test data\n",
        "results = dict(zip(model_fcnn.metrics_names,results))\n",
        "\n",
        "print(results)\n",
        "plottingScores(history_fcnn) # Visualise scores"
      ],
      "metadata": {
        "execution": {
          "iopub.status.busy": "2021-07-29T08:18:59.050012Z",
          "iopub.execute_input": "2021-07-29T08:18:59.050407Z",
          "iopub.status.idle": "2021-07-29T08:19:01.712716Z",
          "shell.execute_reply.started": "2021-07-29T08:18:59.050374Z",
          "shell.execute_reply": "2021-07-29T08:19:01.711589Z"
        },
        "trusted": true,
        "colab": {
          "base_uri": "https://localhost:8080/",
          "height": 276
        },
        "id": "95--aMk22ZXH",
        "outputId": "e1c2bedd-1910-4622-d8d5-2da31c49937c"
      },
      "execution_count": null,
      "outputs": [
        {
          "output_type": "stream",
          "name": "stdout",
          "text": [
            "94/94 [==============================] - 1s 8ms/step - loss: 0.1902 - accuracy: 0.9387 - precision: 0.9410 - recall: 0.9456 - AUC: 0.9797\n",
            "{'loss': 0.19015023112297058, 'accuracy': 0.9386666417121887, 'precision': 0.9409593939781189, 'recall': 0.9456118941307068, 'AUC': 0.9796670079231262}\n"
          ]
        },
        {
          "output_type": "display_data",
          "data": {
            "text/plain": [
              "<Figure size 1440x216 with 5 Axes>"
            ],
            "image/png": "[encoded data removed]"
          },
          "metadata": {}
        }
      ]
    },
    {
      "cell_type": "markdown",
      "source": [
        "## Part 3.7: Building Model #2 - CNN\n",
        "\n",
        "In our CNN model, fewer parameters are needed because every convolutional layer reduces the dimensions of the input through the convolution operation."
      ],
      "metadata": {
        "id": "A1igKiMZ2ZXI"
      }
    },
    {
      "cell_type": "code",
      "source": [
        "\"\"\"\n",
        "@Description: This function builds our custom CNN Model\n",
        "\n",
        "@Inputs: N/A\n",
        "\n",
        "@Output: Returns the CNN model\n",
        "\"\"\"\n",
        "def build_cnn_model():\n",
        "    model = tf.keras.Sequential([\n",
        "        tf.keras.layers.Conv2D(32, kernel_size=(3,3), strides=(1,1), padding = 'valid', activation = 'relu', input_shape=(128, 128, 3)), #  convolutional layer\n",
        "        tf.keras.layers.MaxPool2D(pool_size=(2,2)), # flatten output of conv\n",
        "        \n",
        "        tf.keras.layers.Conv2D(32, kernel_size=(3,3), strides=(1,1), padding = 'valid', activation = 'relu'), #  convolutional layer\n",
        "        tf.keras.layers.MaxPool2D(pool_size=(2,2)), # flatten output of conv\n",
        "        tf.keras.layers.Dropout(0.3),\n",
        "        \n",
        "        tf.keras.layers.Conv2D(64, 3, activation = 'relu', padding = 'valid'),\n",
        "        tf.keras.layers.Conv2D(128, 3, activation = 'relu', padding = 'valid'),\n",
        "        tf.keras.layers.BatchNormalization(),\n",
        "        tf.keras.layers.MaxPool2D(),\n",
        "        tf.keras.layers.Dropout(0.4),\n",
        "        \n",
        "        tf.keras.layers.Flatten(), # flatten output of conv\n",
        "        tf.keras.layers.Dense(512, activation = \"relu\"), # hidden layer\n",
        "        tf.keras.layers.BatchNormalization(),\n",
        "        tf.keras.layers.Dropout(0.5),\n",
        "        tf.keras.layers.Dense(128, activation = \"relu\"), #  output layer\n",
        "        tf.keras.layers.BatchNormalization(),\n",
        "        tf.keras.layers.Dropout(0.5),\n",
        "        tf.keras.layers.Dense(1, activation = \"sigmoid\")])\n",
        "    \n",
        "    return model"
      ],
      "metadata": {
        "execution": {
          "iopub.status.busy": "2021-07-31T11:47:06.876023Z",
          "iopub.execute_input": "2021-07-31T11:47:06.876337Z",
          "iopub.status.idle": "2021-07-31T11:47:06.887799Z",
          "shell.execute_reply.started": "2021-07-31T11:47:06.876304Z",
          "shell.execute_reply": "2021-07-31T11:47:06.886791Z"
        },
        "trusted": true,
        "id": "VvxOfuSN2ZXI"
      },
      "execution_count": null,
      "outputs": []
    },
    {
      "cell_type": "code",
      "source": [
        "# Building and compiling model\n",
        "model_cnn = build_cnn_model()\n",
        "model_cnn.summary()\n",
        "model_cnn.compile(optimizer='adam', loss='binary_crossentropy', metrics=METRICS)"
      ],
      "metadata": {
        "execution": {
          "iopub.status.busy": "2021-07-31T11:47:06.888972Z",
          "iopub.execute_input": "2021-07-31T11:47:06.889483Z",
          "iopub.status.idle": "2021-07-31T11:47:07.132255Z",
          "shell.execute_reply.started": "2021-07-31T11:47:06.889446Z",
          "shell.execute_reply": "2021-07-31T11:47:07.129708Z"
        },
        "trusted": true,
        "colab": {
          "base_uri": "https://localhost:8080/"
        },
        "id": "ixiM0xM_2ZXI",
        "outputId": "9cf4497c-0609-48ce-a3dd-19a9b2a696c1"
      },
      "execution_count": null,
      "outputs": [
        {
          "output_type": "stream",
          "name": "stdout",
          "text": [
            "Model: \"sequential_1\"\n",
            "_________________________________________________________________\n",
            " Layer (type)                Output Shape              Param #   \n",
            "=================================================================\n",
            " conv2d (Conv2D)             (None, 126, 126, 32)      896       \n",
            "                                                                 \n",
            " max_pooling2d (MaxPooling2D  (None, 63, 63, 32)       0         \n",
            " )                                                               \n",
            "                                                                 \n",
            " conv2d_1 (Conv2D)           (None, 61, 61, 32)        9248      \n",
            "                                                                 \n",
            " max_pooling2d_1 (MaxPooling  (None, 30, 30, 32)       0         \n",
            " 2D)                                                             \n",
            "                                                                 \n",
            " dropout (Dropout)           (None, 30, 30, 32)        0         \n",
            "                                                                 \n",
            " conv2d_2 (Conv2D)           (None, 28, 28, 64)        18496     \n",
            "                                                                 \n",
            " conv2d_3 (Conv2D)           (None, 26, 26, 128)       73856     \n",
            "                                                                 \n",
            " batch_normalization (BatchN  (None, 26, 26, 128)      512       \n",
            " ormalization)                                                   \n",
            "                                                                 \n",
            " max_pooling2d_2 (MaxPooling  (None, 13, 13, 128)      0         \n",
            " 2D)                                                             \n",
            "                                                                 \n",
            " dropout_1 (Dropout)         (None, 13, 13, 128)       0         \n",
            "                                                                 \n",
            " flatten_1 (Flatten)         (None, 21632)             0         \n",
            "                                                                 \n",
            " dense_2 (Dense)             (None, 512)               11076096  \n",
            "                                                                 \n",
            " batch_normalization_1 (Batc  (None, 512)              2048      \n",
            " hNormalization)                                                 \n",
            "                                                                 \n",
            " dropout_2 (Dropout)         (None, 512)               0         \n",
            "                                                                 \n",
            " dense_3 (Dense)             (None, 128)               65664     \n",
            "                                                                 \n",
            " batch_normalization_2 (Batc  (None, 128)              512       \n",
            " hNormalization)                                                 \n",
            "                                                                 \n",
            " dropout_3 (Dropout)         (None, 128)               0         \n",
            "                                                                 \n",
            " dense_4 (Dense)             (None, 1)                 129       \n",
            "                                                                 \n",
            "=================================================================\n",
            "Total params: 11,247,457\n",
            "Trainable params: 11,245,921\n",
            "Non-trainable params: 1,536\n",
            "_________________________________________________________________\n"
          ]
        }
      ]
    },
    {
      "cell_type": "code",
      "source": [
        "# Fit model\n",
        "history_cnn = model_cnn.fit(train_X_rgb, \n",
        "                      train_Y,  \n",
        "                      epochs=30, \n",
        "                      validation_split = 0.15, \n",
        "                      batch_size=128,\n",
        "                      class_weight=classWeight,\n",
        "                      callbacks=[checkpoint_cb, early_stopping_cb, lr_scheduler],\n",
        "                      verbose=1) # Fit the model"
      ],
      "metadata": {
        "execution": {
          "iopub.status.busy": "2021-07-28T12:09:59.319841Z",
          "iopub.execute_input": "2021-07-28T12:09:59.320273Z",
          "iopub.status.idle": "2021-07-28T12:31:57.656484Z",
          "shell.execute_reply.started": "2021-07-28T12:09:59.320225Z",
          "shell.execute_reply": "2021-07-28T12:31:57.65553Z"
        },
        "trusted": true,
        "colab": {
          "base_uri": "https://localhost:8080/"
        },
        "id": "i5MAxQf42ZXI",
        "outputId": "195a9838-5198-4af2-e09f-6877bf3f446a"
      },
      "execution_count": null,
      "outputs": [
        {
          "output_type": "stream",
          "name": "stdout",
          "text": [
            "Epoch 1/30\n",
            "34/34 [==============================] - 6s 176ms/step - loss: 0.1398 - accuracy: 0.9424 - precision: 0.9316 - recall: 0.9657 - AUC: 0.9852 - val_loss: 1.2117 - val_accuracy: 0.7680 - val_precision: 0.9912 - val_recall: 0.5678 - val_AUC: 0.9022 - lr: 0.0100\n",
            "Epoch 2/30\n",
            "34/34 [==============================] - 6s 169ms/step - loss: 0.1041 - accuracy: 0.9553 - precision: 0.9451 - recall: 0.9751 - AUC: 0.9914 - val_loss: 0.6969 - val_accuracy: 0.8107 - val_precision: 0.9706 - val_recall: 0.6633 - val_AUC: 0.9240 - lr: 0.0089\n",
            "Epoch 3/30\n",
            "34/34 [==============================] - 6s 167ms/step - loss: 0.0754 - accuracy: 0.9704 - precision: 0.9646 - recall: 0.9820 - AUC: 0.9948 - val_loss: 0.7756 - val_accuracy: 0.7107 - val_precision: 0.6558 - val_recall: 0.9573 - val_AUC: 0.8844 - lr: 0.0079\n",
            "Epoch 4/30\n",
            "34/34 [==============================] - 6s 166ms/step - loss: 0.0815 - accuracy: 0.9659 - precision: 0.9565 - recall: 0.9824 - AUC: 0.9940 - val_loss: 0.7644 - val_accuracy: 0.7467 - val_precision: 0.6877 - val_recall: 0.9573 - val_AUC: 0.9124 - lr: 0.0071\n",
            "Epoch 5/30\n",
            "34/34 [==============================] - 6s 168ms/step - loss: 0.0595 - accuracy: 0.9720 - precision: 0.9627 - recall: 0.9871 - AUC: 0.9963 - val_loss: 0.5497 - val_accuracy: 0.7933 - val_precision: 0.7378 - val_recall: 0.9472 - val_AUC: 0.9333 - lr: 0.0063\n",
            "Epoch 6/30\n",
            "34/34 [==============================] - 6s 167ms/step - loss: 0.0518 - accuracy: 0.9802 - precision: 0.9734 - recall: 0.9910 - AUC: 0.9969 - val_loss: 0.3688 - val_accuracy: 0.8533 - val_precision: 0.8117 - val_recall: 0.9422 - val_AUC: 0.9459 - lr: 0.0056\n",
            "Epoch 7/30\n",
            "34/34 [==============================] - 6s 166ms/step - loss: 0.0635 - accuracy: 0.9758 - precision: 0.9692 - recall: 0.9871 - AUC: 0.9949 - val_loss: 1.5082 - val_accuracy: 0.6600 - val_precision: 0.6112 - val_recall: 0.9874 - val_AUC: 0.8618 - lr: 0.0050\n",
            "Epoch 8/30\n",
            "34/34 [==============================] - 6s 167ms/step - loss: 0.0716 - accuracy: 0.9729 - precision: 0.9679 - recall: 0.9833 - AUC: 0.9951 - val_loss: 0.2524 - val_accuracy: 0.9173 - val_precision: 0.8818 - val_recall: 0.9749 - val_AUC: 0.9820 - lr: 0.0045\n",
            "Epoch 9/30\n",
            "34/34 [==============================] - 6s 167ms/step - loss: 0.0517 - accuracy: 0.9828 - precision: 0.9780 - recall: 0.9910 - AUC: 0.9963 - val_loss: 0.2482 - val_accuracy: 0.9227 - val_precision: 0.9857 - val_recall: 0.8668 - val_AUC: 0.9863 - lr: 0.0040\n",
            "Epoch 10/30\n",
            "34/34 [==============================] - 8s 242ms/step - loss: 0.0416 - accuracy: 0.9847 - precision: 0.9846 - recall: 0.9875 - AUC: 0.9981 - val_loss: 0.1602 - val_accuracy: 0.9467 - val_precision: 0.9812 - val_recall: 0.9171 - val_AUC: 0.9897 - lr: 0.0035\n",
            "Epoch 11/30\n",
            "34/34 [==============================] - 6s 166ms/step - loss: 0.0344 - accuracy: 0.9878 - precision: 0.9822 - recall: 0.9957 - AUC: 0.9979 - val_loss: 0.3925 - val_accuracy: 0.8667 - val_precision: 0.9408 - val_recall: 0.7990 - val_AUC: 0.9512 - lr: 0.0032\n",
            "Epoch 12/30\n",
            "34/34 [==============================] - 6s 167ms/step - loss: 0.0338 - accuracy: 0.9864 - precision: 0.9809 - recall: 0.9944 - AUC: 0.9983 - val_loss: 0.7042 - val_accuracy: 0.7893 - val_precision: 0.7239 - val_recall: 0.9749 - val_AUC: 0.9242 - lr: 0.0028\n",
            "Epoch 13/30\n",
            "34/34 [==============================] - 6s 167ms/step - loss: 0.0241 - accuracy: 0.9925 - precision: 0.9906 - recall: 0.9957 - AUC: 0.9989 - val_loss: 0.2557 - val_accuracy: 0.9067 - val_precision: 0.9385 - val_recall: 0.8819 - val_AUC: 0.9697 - lr: 0.0025\n",
            "Epoch 14/30\n",
            "34/34 [==============================] - 6s 167ms/step - loss: 0.0242 - accuracy: 0.9913 - precision: 0.9872 - recall: 0.9970 - AUC: 0.9989 - val_loss: 0.4260 - val_accuracy: 0.8640 - val_precision: 0.8083 - val_recall: 0.9749 - val_AUC: 0.9574 - lr: 0.0022\n",
            "Epoch 15/30\n",
            "34/34 [==============================] - 6s 168ms/step - loss: 0.0211 - accuracy: 0.9918 - precision: 0.9910 - recall: 0.9940 - AUC: 0.9997 - val_loss: 0.2862 - val_accuracy: 0.9013 - val_precision: 0.8971 - val_recall: 0.9196 - val_AUC: 0.9622 - lr: 0.0020\n"
          ]
        }
      ]
    },
    {
      "cell_type": "code",
      "source": [
        "# Evaluating models results and put them into a dict\n",
        "results = model_cnn.evaluate(test_X_rgb, test_Y)\n",
        "results = dict(zip(model_cnn.metrics_names,results))\n",
        "\n",
        "print(results)\n",
        "plottingScores(history_cnn) # Visualise scores"
      ],
      "metadata": {
        "execution": {
          "iopub.status.busy": "2021-07-28T23:09:30.991777Z",
          "iopub.execute_input": "2021-07-28T23:09:30.992549Z",
          "iopub.status.idle": "2021-07-28T23:09:31.077553Z",
          "shell.execute_reply.started": "2021-07-28T23:09:30.992402Z",
          "shell.execute_reply": "2021-07-28T23:09:31.075658Z"
        },
        "trusted": true,
        "colab": {
          "base_uri": "https://localhost:8080/",
          "height": 276
        },
        "id": "p31kLshX2ZXI",
        "outputId": "56ae6326-bdfc-49e3-9ed4-84b01c367686"
      },
      "execution_count": null,
      "outputs": [
        {
          "output_type": "stream",
          "name": "stdout",
          "text": [
            "94/94 [==============================] - 2s 22ms/step - loss: 0.1554 - accuracy: 0.9480 - precision: 0.9873 - recall: 0.9153 - AUC: 0.9911\n",
            "{'loss': 0.15537382662296295, 'accuracy': 0.9480000138282776, 'precision': 0.987333357334137, 'recall': 0.9153275489807129, 'AUC': 0.9910994172096252}\n"
          ]
        },
        {
          "output_type": "display_data",
          "data": {
            "text/plain": [
              "<Figure size 1440x216 with 5 Axes>"
            ],
            "image/png": "[encoded data removed]"
          },
          "metadata": {}
        }
      ]
    },
    {
      "cell_type": "markdown",
      "source": [
        "## Part 3.8: Building Model #3 - Mobile Net with Transfer Learning"
      ],
      "metadata": {
        "id": "I7OTYH_T2ZXI"
      }
    },
    {
      "cell_type": "code",
      "source": [
        "\"\"\"\n",
        "@Description: This function builds our MobileNet Model\n",
        "\n",
        "@Inputs: N/A\n",
        "\n",
        "@Output: Returns the Mobile Net model\n",
        "\"\"\"\n",
        "def build_mn_model():\n",
        "    \n",
        "    model = tf.keras.Sequential([\n",
        "        tf.keras.applications.MobileNetV2(include_top = False, weights=\"imagenet\", input_shape=(128, 128, 3)),\n",
        "        tf.keras.layers.GlobalAveragePooling2D(),\n",
        "        Dense(1, activation = 'sigmoid')\n",
        "    ])\n",
        "    \n",
        "    model.layers[0].trainable = False\n",
        "    \n",
        "    return model"
      ],
      "metadata": {
        "execution": {
          "iopub.status.busy": "2021-07-31T11:47:07.134074Z",
          "iopub.execute_input": "2021-07-31T11:47:07.13464Z",
          "iopub.status.idle": "2021-07-31T11:47:07.143804Z",
          "shell.execute_reply.started": "2021-07-31T11:47:07.134581Z",
          "shell.execute_reply": "2021-07-31T11:47:07.142351Z"
        },
        "trusted": true,
        "id": "g02wQHWi2ZXI"
      },
      "execution_count": null,
      "outputs": []
    },
    {
      "cell_type": "code",
      "source": [
        "# Building and compiling mobile net model\n",
        "model_mn = build_mn_model()\n",
        "model_mn.summary()\n",
        "model_mn.compile(optimizer='adam', loss='binary_crossentropy', metrics=METRICS)"
      ],
      "metadata": {
        "execution": {
          "iopub.status.busy": "2021-07-31T11:47:07.145847Z",
          "iopub.execute_input": "2021-07-31T11:47:07.146391Z",
          "iopub.status.idle": "2021-07-31T11:47:08.972091Z",
          "shell.execute_reply.started": "2021-07-31T11:47:07.146343Z",
          "shell.execute_reply": "2021-07-31T11:47:08.971001Z"
        },
        "trusted": true,
        "colab": {
          "base_uri": "https://localhost:8080/"
        },
        "id": "f_lNyeXb2ZXI",
        "outputId": "3b8baf90-7bd0-41c3-a9fb-1c278b227f60"
      },
      "execution_count": null,
      "outputs": [
        {
          "output_type": "stream",
          "name": "stdout",
          "text": [
            "Downloading data from https://storage.googleapis.com/tensorflow/keras-applications/mobilenet_v2/mobilenet_v2_weights_tf_dim_ordering_tf_kernels_1.0_128_no_top.h5\n",
            "9412608/9406464 [==============================] - 0s 0us/step\n",
            "9420800/9406464 [==============================] - 0s 0us/step\n",
            "Model: \"sequential_2\"\n",
            "_________________________________________________________________\n",
            " Layer (type)                Output Shape              Param #   \n",
            "=================================================================\n",
            " mobilenetv2_1.00_128 (Funct  (None, 4, 4, 1280)       2257984   \n",
            " ional)                                                          \n",
            "                                                                 \n",
            " global_average_pooling2d (G  (None, 1280)             0         \n",
            " lobalAveragePooling2D)                                          \n",
            "                                                                 \n",
            " dense_5 (Dense)             (None, 1)                 1281      \n",
            "                                                                 \n",
            "=================================================================\n",
            "Total params: 2,259,265\n",
            "Trainable params: 1,281\n",
            "Non-trainable params: 2,257,984\n",
            "_________________________________________________________________\n"
          ]
        }
      ]
    },
    {
      "cell_type": "code",
      "source": [
        "history_mn = model_mn.fit(train_X_rgb, \n",
        "                          train_Y,  \n",
        "                          epochs = 30, \n",
        "                          validation_split = 0.20, \n",
        "                          class_weight = classWeight,\n",
        "                          batch_size = 64,\n",
        "                          callbacks = [checkpoint_cb, early_stopping_cb, lr_scheduler])"
      ],
      "metadata": {
        "execution": {
          "iopub.status.busy": "2021-07-31T11:48:26.577919Z",
          "iopub.execute_input": "2021-07-31T11:48:26.578292Z",
          "iopub.status.idle": "2021-07-31T11:59:22.958363Z",
          "shell.execute_reply.started": "2021-07-31T11:48:26.578262Z",
          "shell.execute_reply": "2021-07-31T11:59:22.956892Z"
        },
        "trusted": true,
        "colab": {
          "base_uri": "https://localhost:8080/"
        },
        "id": "0CXgHTsq2ZXJ",
        "outputId": "2a3c451d-872d-4b64-8934-1645136dc0a7"
      },
      "execution_count": null,
      "outputs": [
        {
          "output_type": "stream",
          "name": "stdout",
          "text": [
            "Epoch 1/30\n",
            "63/63 [==============================] - 16s 180ms/step - loss: 0.2324 - accuracy: 0.8985 - precision: 0.9228 - recall: 0.9306 - AUC: 0.9752 - val_loss: 0.0689 - val_accuracy: 0.9780 - val_precision: 0.9738 - val_recall: 0.9849 - val_AUC: 0.9969 - lr: 0.0100\n",
            "Epoch 2/30\n",
            "63/63 [==============================] - 7s 117ms/step - loss: 0.0509 - accuracy: 0.9793 - precision: 0.9736 - recall: 0.9891 - AUC: 0.9981 - val_loss: 0.0526 - val_accuracy: 0.9820 - val_precision: 0.9794 - val_recall: 0.9868 - val_AUC: 0.9981 - lr: 0.0089\n",
            "Epoch 3/30\n",
            "63/63 [==============================] - 7s 109ms/step - loss: 0.0354 - accuracy: 0.9872 - precision: 0.9851 - recall: 0.9918 - AUC: 0.9990 - val_loss: 0.0593 - val_accuracy: 0.9820 - val_precision: 0.9723 - val_recall: 0.9943 - val_AUC: 0.9975 - lr: 0.0079\n",
            "Epoch 4/30\n",
            "63/63 [==============================] - 8s 121ms/step - loss: 0.0274 - accuracy: 0.9925 - precision: 0.9896 - recall: 0.9968 - AUC: 0.9993 - val_loss: 0.0498 - val_accuracy: 0.9870 - val_precision: 0.9813 - val_recall: 0.9943 - val_AUC: 0.9976 - lr: 0.0071\n",
            "Epoch 5/30\n",
            "63/63 [==============================] - 7s 106ms/step - loss: 0.0229 - accuracy: 0.9940 - precision: 0.9914 - recall: 0.9977 - AUC: 0.9995 - val_loss: 0.0580 - val_accuracy: 0.9840 - val_precision: 0.9741 - val_recall: 0.9962 - val_AUC: 0.9979 - lr: 0.0063\n",
            "Epoch 6/30\n",
            "63/63 [==============================] - 7s 107ms/step - loss: 0.0207 - accuracy: 0.9937 - precision: 0.9896 - recall: 0.9991 - AUC: 0.9995 - val_loss: 0.0501 - val_accuracy: 0.9870 - val_precision: 0.9813 - val_recall: 0.9943 - val_AUC: 0.9978 - lr: 0.0056\n",
            "Epoch 7/30\n",
            "63/63 [==============================] - 8s 122ms/step - loss: 0.0176 - accuracy: 0.9948 - precision: 0.9914 - recall: 0.9991 - AUC: 0.9995 - val_loss: 0.0469 - val_accuracy: 0.9860 - val_precision: 0.9813 - val_recall: 0.9924 - val_AUC: 0.9977 - lr: 0.0050\n",
            "Epoch 8/30\n",
            "63/63 [==============================] - 7s 116ms/step - loss: 0.0157 - accuracy: 0.9970 - precision: 0.9950 - recall: 0.9995 - AUC: 0.9998 - val_loss: 0.0454 - val_accuracy: 0.9870 - val_precision: 0.9831 - val_recall: 0.9924 - val_AUC: 0.9978 - lr: 0.0045\n",
            "Epoch 9/30\n",
            "63/63 [==============================] - 7s 107ms/step - loss: 0.0145 - accuracy: 0.9960 - precision: 0.9932 - recall: 0.9995 - AUC: 0.9999 - val_loss: 0.0470 - val_accuracy: 0.9870 - val_precision: 0.9831 - val_recall: 0.9924 - val_AUC: 0.9978 - lr: 0.0040\n",
            "Epoch 10/30\n",
            "63/63 [==============================] - 7s 108ms/step - loss: 0.0134 - accuracy: 0.9973 - precision: 0.9955 - recall: 0.9995 - AUC: 0.9999 - val_loss: 0.0463 - val_accuracy: 0.9870 - val_precision: 0.9831 - val_recall: 0.9924 - val_AUC: 0.9977 - lr: 0.0035\n",
            "Epoch 11/30\n",
            "63/63 [==============================] - 7s 107ms/step - loss: 0.0130 - accuracy: 0.9977 - precision: 0.9964 - recall: 0.9995 - AUC: 0.9999 - val_loss: 0.0461 - val_accuracy: 0.9870 - val_precision: 0.9831 - val_recall: 0.9924 - val_AUC: 0.9977 - lr: 0.0032\n",
            "Epoch 12/30\n",
            "63/63 [==============================] - 8s 120ms/step - loss: 0.0120 - accuracy: 0.9975 - precision: 0.9959 - recall: 0.9995 - AUC: 0.9999 - val_loss: 0.0443 - val_accuracy: 0.9880 - val_precision: 0.9850 - val_recall: 0.9924 - val_AUC: 0.9977 - lr: 0.0028\n",
            "Epoch 13/30\n",
            "63/63 [==============================] - 7s 105ms/step - loss: 0.0113 - accuracy: 0.9973 - precision: 0.9955 - recall: 0.9995 - AUC: 0.9999 - val_loss: 0.0447 - val_accuracy: 0.9880 - val_precision: 0.9850 - val_recall: 0.9924 - val_AUC: 0.9977 - lr: 0.0025\n",
            "Epoch 14/30\n",
            "63/63 [==============================] - 7s 107ms/step - loss: 0.0112 - accuracy: 0.9975 - precision: 0.9959 - recall: 0.9995 - AUC: 0.9999 - val_loss: 0.0466 - val_accuracy: 0.9870 - val_precision: 0.9831 - val_recall: 0.9924 - val_AUC: 0.9977 - lr: 0.0022\n",
            "Epoch 15/30\n",
            "63/63 [==============================] - 8s 120ms/step - loss: 0.0102 - accuracy: 0.9975 - precision: 0.9959 - recall: 0.9995 - AUC: 0.9999 - val_loss: 0.0442 - val_accuracy: 0.9870 - val_precision: 0.9850 - val_recall: 0.9905 - val_AUC: 0.9969 - lr: 0.0020\n",
            "Epoch 16/30\n",
            "63/63 [==============================] - 7s 106ms/step - loss: 0.0098 - accuracy: 0.9977 - precision: 0.9964 - recall: 0.9995 - AUC: 1.0000 - val_loss: 0.0445 - val_accuracy: 0.9880 - val_precision: 0.9850 - val_recall: 0.9924 - val_AUC: 0.9969 - lr: 0.0018\n",
            "Epoch 17/30\n",
            "63/63 [==============================] - 7s 106ms/step - loss: 0.0096 - accuracy: 0.9983 - precision: 0.9973 - recall: 0.9995 - AUC: 1.0000 - val_loss: 0.0457 - val_accuracy: 0.9880 - val_precision: 0.9850 - val_recall: 0.9924 - val_AUC: 0.9977 - lr: 0.0016\n",
            "Epoch 18/30\n",
            "63/63 [==============================] - 7s 106ms/step - loss: 0.0092 - accuracy: 0.9980 - precision: 0.9968 - recall: 0.9995 - AUC: 1.0000 - val_loss: 0.0455 - val_accuracy: 0.9880 - val_precision: 0.9850 - val_recall: 0.9924 - val_AUC: 0.9977 - lr: 0.0014\n",
            "Epoch 19/30\n",
            "63/63 [==============================] - 7s 107ms/step - loss: 0.0089 - accuracy: 0.9985 - precision: 0.9973 - recall: 1.0000 - AUC: 1.0000 - val_loss: 0.0475 - val_accuracy: 0.9870 - val_precision: 0.9831 - val_recall: 0.9924 - val_AUC: 0.9977 - lr: 0.0013\n",
            "Epoch 20/30\n",
            "63/63 [==============================] - 7s 110ms/step - loss: 0.0086 - accuracy: 0.9985 - precision: 0.9977 - recall: 0.9995 - AUC: 1.0000 - val_loss: 0.0462 - val_accuracy: 0.9880 - val_precision: 0.9850 - val_recall: 0.9924 - val_AUC: 0.9977 - lr: 0.0011\n"
          ]
        }
      ]
    },
    {
      "cell_type": "code",
      "source": [
        "# Show results and print graphs\n",
        "results = model_mn.evaluate(test_X_rgb, test_Y)\n",
        "results = dict(zip(model_mn.metrics_names,results))\n",
        "\n",
        "print(results)\n",
        "plottingScores(history_mn) # Visualise scores"
      ],
      "metadata": {
        "execution": {
          "iopub.status.busy": "2021-07-31T12:00:16.041076Z",
          "iopub.execute_input": "2021-07-31T12:00:16.041624Z",
          "iopub.status.idle": "2021-07-31T12:00:41.076202Z",
          "shell.execute_reply.started": "2021-07-31T12:00:16.041576Z",
          "shell.execute_reply": "2021-07-31T12:00:41.074996Z"
        },
        "trusted": true,
        "colab": {
          "base_uri": "https://localhost:8080/",
          "height": 276
        },
        "id": "GfSn8JZ12ZXJ",
        "outputId": "13253068-3de2-4e1e-b806-eed8d143427d"
      },
      "execution_count": null,
      "outputs": [
        {
          "output_type": "stream",
          "name": "stdout",
          "text": [
            "94/94 [==============================] - 5s 50ms/step - loss: 0.0538 - accuracy: 0.9870 - precision: 0.9858 - recall: 0.9901 - AUC: 0.9963\n",
            "{'loss': 0.0538092665374279, 'accuracy': 0.9869999885559082, 'precision': 0.9858461618423462, 'recall': 0.990111231803894, 'AUC': 0.9962998032569885}\n"
          ]
        },
        {
          "output_type": "display_data",
          "data": {
            "text/plain": [
              "<Figure size 1440x216 with 5 Axes>"
            ],
            "image/png": "[encoded data removed]"
          },
          "metadata": {}
        }
      ]
    },
    {
      "cell_type": "markdown",
      "source": [
        "### Confusion Matrix"
      ],
      "metadata": {
        "id": "bihz935L2ZXJ"
      }
    },
    {
      "cell_type": "code",
      "source": [
        "from sklearn.metrics import confusion_matrix\n",
        "\n",
        "y_pred = model_mn.predict_classes(test_X_rgb)\n",
        "confusion_matrix(test_Y, y_pred)"
      ],
      "metadata": {
        "execution": {
          "iopub.status.busy": "2021-07-31T12:00:47.370303Z",
          "iopub.execute_input": "2021-07-31T12:00:47.370837Z",
          "iopub.status.idle": "2021-07-31T12:01:11.439601Z",
          "shell.execute_reply.started": "2021-07-31T12:00:47.370787Z",
          "shell.execute_reply": "2021-07-31T12:01:11.438638Z"
        },
        "trusted": true,
        "colab": {
          "base_uri": "https://localhost:8080/",
          "height": 222
        },
        "id": "GxafcewT2ZXJ",
        "outputId": "ee7baff1-c400-45a1-f4ce-431a8c10ec49"
      },
      "execution_count": null,
      "outputs": [
        {
          "output_type": "error",
          "ename": "AttributeError",
          "evalue": "ignored",
          "traceback": [
            "\u001b[0;31m---------------------------------------------------------------------------\u001b[0m",
            "\u001b[0;31mAttributeError\u001b[0m                            Traceback (most recent call last)",
            "\u001b[0;32m<ipython-input-37-69e829f7c640>\u001b[0m in \u001b[0;36m<module>\u001b[0;34m()\u001b[0m\n\u001b[1;32m      1\u001b[0m \u001b[0;32mfrom\u001b[0m \u001b[0msklearn\u001b[0m\u001b[0;34m.\u001b[0m\u001b[0mmetrics\u001b[0m \u001b[0;32mimport\u001b[0m \u001b[0mconfusion_matrix\u001b[0m\u001b[0;34m\u001b[0m\u001b[0;34m\u001b[0m\u001b[0m\n\u001b[1;32m      2\u001b[0m \u001b[0;34m\u001b[0m\u001b[0m\n\u001b[0;32m----> 3\u001b[0;31m \u001b[0my_pred\u001b[0m \u001b[0;34m=\u001b[0m \u001b[0mmodel_mn\u001b[0m\u001b[0;34m.\u001b[0m\u001b[0mpredict_classes\u001b[0m\u001b[0;34m(\u001b[0m\u001b[0mtest_X_rgb\u001b[0m\u001b[0;34m)\u001b[0m\u001b[0;34m\u001b[0m\u001b[0;34m\u001b[0m\u001b[0m\n\u001b[0m\u001b[1;32m      4\u001b[0m \u001b[0mconfusion_matrix\u001b[0m\u001b[0;34m(\u001b[0m\u001b[0mtest_Y\u001b[0m\u001b[0;34m,\u001b[0m \u001b[0my_pred\u001b[0m\u001b[0;34m)\u001b[0m\u001b[0;34m\u001b[0m\u001b[0;34m\u001b[0m\u001b[0m\n",
            "\u001b[0;31mAttributeError\u001b[0m: 'Sequential' object has no attribute 'predict_classes'"
          ]
        }
      ]
    },
    {
      "cell_type": "markdown",
      "source": [
        "### Function to Perform K-Fold CV"
      ],
      "metadata": {
        "id": "clzofHo_2ZXJ"
      }
    },
    {
      "cell_type": "code",
      "source": [
        "import gc"
      ],
      "metadata": {
        "id": "ppv4rYMFMSQJ"
      },
      "execution_count": null,
      "outputs": []
    },
    {
      "cell_type": "code",
      "source": [
        "\"\"\"\n",
        "@Description: This function performs K-Fold Cross Validation with a provided Deep Learning Model\n",
        "\n",
        "@Inputs:\n",
        "    - K: Number of folds\n",
        "    - build_model_func: Function to create model\n",
        "    - epochs: Number of epochs to train data\n",
        "    - batchSize: Batch size when fitting the model\n",
        "\n",
        "@Output: Dict of metric results from K-fold CV\n",
        "\"\"\"\n",
        "def performCV(K, build_model_func, epochs, batchSize):\n",
        "    \n",
        "    kfold = KFold(n_splits = K, shuffle = True) # Split data into K Folds\n",
        "    \n",
        "    res = {\n",
        "        'acc_per_fold': [],\n",
        "        'precision_per_fold': [],\n",
        "        'recall_per_fold': [],\n",
        "        'auc_per_fold': [],\n",
        "        'loss_per_fold': []\n",
        "    }\n",
        "\n",
        "    fold_no = 1\n",
        "\n",
        "    for train_index, test_index in kfold.split(train_X_rgb):\n",
        "\n",
        "        X_train, X_test = train_X_rgb[train_index], train_X_rgb[test_index] # Split data\n",
        "        y_train, y_test = train_Y[train_index], train_Y[test_index]\n",
        "\n",
        "        model = build_model_func() # Build model\n",
        "        mets = ['accuracy', tf.keras.metrics.Precision(name='precision'), tf.keras.metrics.Recall(name='recall'), tf.keras.metrics.AUC(name='AUC')]\n",
        "\n",
        "        model.compile(optimizer='adam', loss='binary_crossentropy', metrics=mets) # Compile our model\n",
        "\n",
        "        print('------------------------------------------------------------------------')\n",
        "        print(f'Training for fold {fold_no} ...')\n",
        "\n",
        "        # Train the model on the current fold\n",
        "        history = model.fit(X_train,\n",
        "                            y_train, \n",
        "                            epochs = epochs,\n",
        "                            batch_size = batchSize,\n",
        "                            class_weight = classWeight,\n",
        "                            callbacks = [checkpoint_cb, early_stopping_cb, lr_scheduler]) # Fit data to model\n",
        "\n",
        "        scores = model.evaluate(X_test, y_test, verbose=0) # Evalute the model\n",
        "\n",
        "        print(f'Scores for fold {fold_no}:')\n",
        "        print(f'{model.metrics_names[0]}: {scores[0]}')\n",
        "        print(f'{model.metrics_names[1]}: {scores[1]*100}%')\n",
        "        print(f'{model.metrics_names[2]}: {scores[2]*100}%')\n",
        "        print(f'{model.metrics_names[3]}: {scores[3]*100}%')\n",
        "\n",
        "        res['loss_per_fold'].append(scores[0])\n",
        "        res['acc_per_fold'].append(scores[1] * 100)\n",
        "        res['precision_per_fold'].append(scores[2]*100)\n",
        "        res['recall_per_fold'].append(scores[3]*100)\n",
        "        res['auc_per_fold'].append(scores[4]*100)\n",
        "\n",
        "        gc.collect()\n",
        "        # Increase fold number\n",
        "        fold_no += 1\n",
        "    \n",
        "    return res # return our results dict"
      ],
      "metadata": {
        "execution": {
          "iopub.status.busy": "2021-07-31T12:01:37.791317Z",
          "iopub.execute_input": "2021-07-31T12:01:37.792055Z",
          "iopub.status.idle": "2021-07-31T12:01:37.806154Z",
          "shell.execute_reply.started": "2021-07-31T12:01:37.791997Z",
          "shell.execute_reply": "2021-07-31T12:01:37.804964Z"
        },
        "trusted": true,
        "id": "PRMZVKC02ZXJ"
      },
      "execution_count": null,
      "outputs": []
    },
    {
      "cell_type": "markdown",
      "source": [
        "## Part 3.9: K-Fold Cross Validation with all 3 Networks"
      ],
      "metadata": {
        "id": "SepawJaN2ZXJ"
      }
    },
    {
      "cell_type": "code",
      "source": [
        "# Full-connected NN\n",
        "resFCNN = performCV(5, build_fcnn_model, 30, 128)"
      ],
      "metadata": {
        "execution": {
          "iopub.status.busy": "2021-07-31T13:32:08.196193Z",
          "iopub.execute_input": "2021-07-31T13:32:08.196596Z",
          "iopub.status.idle": "2021-07-31T13:36:47.385914Z",
          "shell.execute_reply.started": "2021-07-31T13:32:08.196563Z",
          "shell.execute_reply": "2021-07-31T13:36:47.384614Z"
        },
        "trusted": true,
        "id": "2YJsEF922ZXJ"
      },
      "execution_count": null,
      "outputs": []
    },
    {
      "cell_type": "code",
      "source": [
        "# Convolutional NN\n",
        "resCNN = performCV(5, build_cnn_model, 30, 64)"
      ],
      "metadata": {
        "execution": {
          "iopub.status.busy": "2021-07-30T04:06:39.34779Z",
          "iopub.execute_input": "2021-07-30T04:06:39.348452Z",
          "iopub.status.idle": "2021-07-30T05:52:41.195812Z",
          "shell.execute_reply.started": "2021-07-30T04:06:39.34841Z",
          "shell.execute_reply": "2021-07-30T05:52:41.194774Z"
        },
        "trusted": true,
        "id": "GIIED8Co2ZXJ"
      },
      "execution_count": null,
      "outputs": []
    },
    {
      "cell_type": "code",
      "source": [
        "# MobileNet\n",
        "resMB = performCV(5, build_mn_model, 30, 64)"
      ],
      "metadata": {
        "execution": {
          "iopub.status.busy": "2021-07-31T12:02:06.523198Z",
          "iopub.execute_input": "2021-07-31T12:02:06.523716Z",
          "iopub.status.idle": "2021-07-31T13:27:48.480903Z",
          "shell.execute_reply.started": "2021-07-31T12:02:06.523675Z",
          "shell.execute_reply": "2021-07-31T13:27:48.479691Z"
        },
        "trusted": true,
        "id": "JY3521GQ2ZXK"
      },
      "execution_count": null,
      "outputs": []
    },
    {
      "cell_type": "code",
      "source": [
        "resMB"
      ],
      "metadata": {
        "execution": {
          "iopub.status.busy": "2021-07-31T13:28:11.884092Z",
          "iopub.execute_input": "2021-07-31T13:28:11.884579Z",
          "iopub.status.idle": "2021-07-31T13:28:11.89564Z",
          "shell.execute_reply.started": "2021-07-31T13:28:11.884514Z",
          "shell.execute_reply": "2021-07-31T13:28:11.894437Z"
        },
        "trusted": true,
        "id": "p1XjFUlm2ZXK"
      },
      "execution_count": null,
      "outputs": []
    }
  ]
}